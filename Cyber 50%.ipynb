{
 "cells": [
  {
   "cell_type": "code",
   "execution_count": 1,
   "id": "d730353a",
   "metadata": {},
   "outputs": [],
   "source": [
    "import numpy as np\n",
    "import pandas as pd\n",
    "from sklearn.model_selection import train_test_split\n",
    "import sklearn_relief as relief\n",
    "from sklearn.metrics import accuracy_score"
   ]
  },
  {
   "cell_type": "code",
   "execution_count": 2,
   "id": "2f281e23",
   "metadata": {},
   "outputs": [],
   "source": [
    "# !pip install sklearn_relief"
   ]
  },
  {
   "cell_type": "code",
   "execution_count": 3,
   "id": "61df5ede",
   "metadata": {},
   "outputs": [
    {
     "name": "stderr",
     "output_type": "stream",
     "text": [
      "c:\\program files\\python36\\lib\\site-packages\\IPython\\core\\interactiveshell.py:3072: DtypeWarning: Columns (19) have mixed types.Specify dtype option on import or set low_memory=False.\n",
      "  interactivity=interactivity, compiler=compiler, result=result)\n"
     ]
    }
   ],
   "source": [
    "df = pd.read_csv(r'Z:\\CHANDRA MOULI B VS R\\DATASET\\cyber1.csv')"
   ]
  },
  {
   "cell_type": "code",
   "execution_count": 4,
   "id": "f050ac9e",
   "metadata": {},
   "outputs": [
    {
     "data": {
      "text/html": [
       "<div>\n",
       "<style scoped>\n",
       "    .dataframe tbody tr th:only-of-type {\n",
       "        vertical-align: middle;\n",
       "    }\n",
       "\n",
       "    .dataframe tbody tr th {\n",
       "        vertical-align: top;\n",
       "    }\n",
       "\n",
       "    .dataframe thead th {\n",
       "        text-align: right;\n",
       "    }\n",
       "</style>\n",
       "<table border=\"1\" class=\"dataframe\">\n",
       "  <thead>\n",
       "    <tr style=\"text-align: right;\">\n",
       "      <th></th>\n",
       "      <th>IsBeta</th>\n",
       "      <th>RtpStateBitfield</th>\n",
       "      <th>IsSxsPassiveMode</th>\n",
       "      <th>DefaultBrowsersIdentifier</th>\n",
       "      <th>AVProductStatesIdentifier</th>\n",
       "      <th>AVProductsInstalled</th>\n",
       "      <th>AVProductsEnabled</th>\n",
       "      <th>HasTpm</th>\n",
       "      <th>CountryIdentifier</th>\n",
       "      <th>CityIdentifier</th>\n",
       "      <th>...</th>\n",
       "      <th>Census_FirmwareVersionIdentifier</th>\n",
       "      <th>Census_IsSecureBootEnabled</th>\n",
       "      <th>Census_IsWIMBootEnabled</th>\n",
       "      <th>Census_IsVirtualDevice</th>\n",
       "      <th>Census_IsTouchEnabled</th>\n",
       "      <th>Census_IsPenCapable</th>\n",
       "      <th>Census_IsAlwaysOnAlwaysConnectedCapable</th>\n",
       "      <th>Wdft_IsGamer</th>\n",
       "      <th>Wdft_RegionIdentifier</th>\n",
       "      <th>HasDetections</th>\n",
       "    </tr>\n",
       "  </thead>\n",
       "  <tbody>\n",
       "    <tr>\n",
       "      <th>0</th>\n",
       "      <td>0</td>\n",
       "      <td>7.0</td>\n",
       "      <td>0</td>\n",
       "      <td>NaN</td>\n",
       "      <td>53447.0</td>\n",
       "      <td>1.0</td>\n",
       "      <td>1.0</td>\n",
       "      <td>1</td>\n",
       "      <td>29</td>\n",
       "      <td>128035.0</td>\n",
       "      <td>...</td>\n",
       "      <td>36144.0</td>\n",
       "      <td>0</td>\n",
       "      <td>NaN</td>\n",
       "      <td>0.0</td>\n",
       "      <td>0</td>\n",
       "      <td>0</td>\n",
       "      <td>0.0</td>\n",
       "      <td>0.0</td>\n",
       "      <td>10.0</td>\n",
       "      <td>0</td>\n",
       "    </tr>\n",
       "    <tr>\n",
       "      <th>1</th>\n",
       "      <td>0</td>\n",
       "      <td>7.0</td>\n",
       "      <td>0</td>\n",
       "      <td>NaN</td>\n",
       "      <td>53447.0</td>\n",
       "      <td>1.0</td>\n",
       "      <td>1.0</td>\n",
       "      <td>1</td>\n",
       "      <td>93</td>\n",
       "      <td>1482.0</td>\n",
       "      <td>...</td>\n",
       "      <td>57858.0</td>\n",
       "      <td>0</td>\n",
       "      <td>NaN</td>\n",
       "      <td>0.0</td>\n",
       "      <td>0</td>\n",
       "      <td>0</td>\n",
       "      <td>0.0</td>\n",
       "      <td>0.0</td>\n",
       "      <td>8.0</td>\n",
       "      <td>0</td>\n",
       "    </tr>\n",
       "    <tr>\n",
       "      <th>2</th>\n",
       "      <td>0</td>\n",
       "      <td>7.0</td>\n",
       "      <td>0</td>\n",
       "      <td>NaN</td>\n",
       "      <td>53447.0</td>\n",
       "      <td>1.0</td>\n",
       "      <td>1.0</td>\n",
       "      <td>1</td>\n",
       "      <td>86</td>\n",
       "      <td>153579.0</td>\n",
       "      <td>...</td>\n",
       "      <td>52682.0</td>\n",
       "      <td>0</td>\n",
       "      <td>NaN</td>\n",
       "      <td>0.0</td>\n",
       "      <td>0</td>\n",
       "      <td>0</td>\n",
       "      <td>0.0</td>\n",
       "      <td>0.0</td>\n",
       "      <td>3.0</td>\n",
       "      <td>0</td>\n",
       "    </tr>\n",
       "    <tr>\n",
       "      <th>3</th>\n",
       "      <td>0</td>\n",
       "      <td>7.0</td>\n",
       "      <td>0</td>\n",
       "      <td>NaN</td>\n",
       "      <td>53447.0</td>\n",
       "      <td>1.0</td>\n",
       "      <td>1.0</td>\n",
       "      <td>1</td>\n",
       "      <td>88</td>\n",
       "      <td>20710.0</td>\n",
       "      <td>...</td>\n",
       "      <td>20050.0</td>\n",
       "      <td>0</td>\n",
       "      <td>NaN</td>\n",
       "      <td>0.0</td>\n",
       "      <td>0</td>\n",
       "      <td>0</td>\n",
       "      <td>0.0</td>\n",
       "      <td>0.0</td>\n",
       "      <td>3.0</td>\n",
       "      <td>1</td>\n",
       "    </tr>\n",
       "    <tr>\n",
       "      <th>4</th>\n",
       "      <td>0</td>\n",
       "      <td>7.0</td>\n",
       "      <td>0</td>\n",
       "      <td>NaN</td>\n",
       "      <td>53447.0</td>\n",
       "      <td>1.0</td>\n",
       "      <td>1.0</td>\n",
       "      <td>1</td>\n",
       "      <td>18</td>\n",
       "      <td>37376.0</td>\n",
       "      <td>...</td>\n",
       "      <td>19844.0</td>\n",
       "      <td>0</td>\n",
       "      <td>0.0</td>\n",
       "      <td>0.0</td>\n",
       "      <td>0</td>\n",
       "      <td>0</td>\n",
       "      <td>0.0</td>\n",
       "      <td>0.0</td>\n",
       "      <td>1.0</td>\n",
       "      <td>1</td>\n",
       "    </tr>\n",
       "  </tbody>\n",
       "</table>\n",
       "<p>5 rows × 56 columns</p>\n",
       "</div>"
      ],
      "text/plain": [
       "   IsBeta  RtpStateBitfield  IsSxsPassiveMode  DefaultBrowsersIdentifier  \\\n",
       "0       0               7.0                 0                        NaN   \n",
       "1       0               7.0                 0                        NaN   \n",
       "2       0               7.0                 0                        NaN   \n",
       "3       0               7.0                 0                        NaN   \n",
       "4       0               7.0                 0                        NaN   \n",
       "\n",
       "   AVProductStatesIdentifier  AVProductsInstalled  AVProductsEnabled  HasTpm  \\\n",
       "0                    53447.0                  1.0                1.0       1   \n",
       "1                    53447.0                  1.0                1.0       1   \n",
       "2                    53447.0                  1.0                1.0       1   \n",
       "3                    53447.0                  1.0                1.0       1   \n",
       "4                    53447.0                  1.0                1.0       1   \n",
       "\n",
       "   CountryIdentifier  CityIdentifier  ...  Census_FirmwareVersionIdentifier  \\\n",
       "0                 29        128035.0  ...                           36144.0   \n",
       "1                 93          1482.0  ...                           57858.0   \n",
       "2                 86        153579.0  ...                           52682.0   \n",
       "3                 88         20710.0  ...                           20050.0   \n",
       "4                 18         37376.0  ...                           19844.0   \n",
       "\n",
       "   Census_IsSecureBootEnabled  Census_IsWIMBootEnabled Census_IsVirtualDevice  \\\n",
       "0                           0                      NaN                    0.0   \n",
       "1                           0                      NaN                    0.0   \n",
       "2                           0                      NaN                    0.0   \n",
       "3                           0                      NaN                    0.0   \n",
       "4                           0                      0.0                    0.0   \n",
       "\n",
       "   Census_IsTouchEnabled  Census_IsPenCapable  \\\n",
       "0                      0                    0   \n",
       "1                      0                    0   \n",
       "2                      0                    0   \n",
       "3                      0                    0   \n",
       "4                      0                    0   \n",
       "\n",
       "  Census_IsAlwaysOnAlwaysConnectedCapable  Wdft_IsGamer  \\\n",
       "0                                     0.0           0.0   \n",
       "1                                     0.0           0.0   \n",
       "2                                     0.0           0.0   \n",
       "3                                     0.0           0.0   \n",
       "4                                     0.0           0.0   \n",
       "\n",
       "   Wdft_RegionIdentifier HasDetections  \n",
       "0                   10.0             0  \n",
       "1                    8.0             0  \n",
       "2                    3.0             0  \n",
       "3                    3.0             1  \n",
       "4                    1.0             1  \n",
       "\n",
       "[5 rows x 56 columns]"
      ]
     },
     "execution_count": 4,
     "metadata": {},
     "output_type": "execute_result"
    }
   ],
   "source": [
    "df.head()"
   ]
  },
  {
   "cell_type": "code",
   "execution_count": 5,
   "id": "3e2e1240",
   "metadata": {},
   "outputs": [
    {
     "data": {
      "text/plain": [
       "(1048575, 56)"
      ]
     },
     "execution_count": 5,
     "metadata": {},
     "output_type": "execute_result"
    }
   ],
   "source": [
    "df.shape"
   ]
  },
  {
   "cell_type": "code",
   "execution_count": 6,
   "id": "ae25c0e7",
   "metadata": {},
   "outputs": [
    {
     "data": {
      "text/plain": [
       "IsBeta                                                     0\n",
       "RtpStateBitfield                                        3853\n",
       "IsSxsPassiveMode                                           0\n",
       "DefaultBrowsersIdentifier                             997839\n",
       "AVProductStatesIdentifier                               4324\n",
       "AVProductsInstalled                                     4324\n",
       "AVProductsEnabled                                       4324\n",
       "HasTpm                                                     0\n",
       "CountryIdentifier                                          0\n",
       "CityIdentifier                                         38285\n",
       "OrganizationIdentifier                                323887\n",
       "GeoNameIdentifier                                         20\n",
       "LocaleEnglishNameIdentifier                                0\n",
       "OsVer                                                      0\n",
       "OsBuild                                                    0\n",
       "OsSuite                                                    0\n",
       "OsPlatformSubRelease                                       0\n",
       "IsProtected                                             4306\n",
       "AutoSampleOptIn                                            0\n",
       "PuaMode                                              1048299\n",
       "SMode                                                  62851\n",
       "IeVerIdentifier                                         6988\n",
       "Firewall                                               10830\n",
       "UacLuaenable                                            1271\n",
       "Census_OEMNameIdentifier                               11072\n",
       "Census_OEMModelIdentifier                              11890\n",
       "Census_ProcessorCoreCount                               4850\n",
       "Census_ProcessorManufacturerIdentifier                  4851\n",
       "Census_ProcessorModelIdentifier                         4856\n",
       "Census_ProcessorClass                                1044241\n",
       "Census_PrimaryDiskTotalCapacity                         6148\n",
       "Census_SystemVolumeTotalCapacity                        6147\n",
       "Census_HasOpticalDiskDrive                                 0\n",
       "Census_TotalPhysicalRAM                                 9394\n",
       "Census_InternalPrimaryDiagonalDisplaySizeInInches       5618\n",
       "Census_InternalPrimaryDisplayResolutionHorizontal       5608\n",
       "Census_InternalPrimaryDisplayResolutionVertical         5608\n",
       "Census_OSBuildNumber                                       0\n",
       "Census_OSBuildRevision                                     0\n",
       "Census_OSInstallLanguageIdentifier                      6987\n",
       "Census_OSUILocaleIdentifier                                0\n",
       "Census_IsPortableOperatingSystem                           0\n",
       "Census_IsFlightingInternal                            870453\n",
       "Census_IsFlightsDisabled                               18636\n",
       "Census_ThresholdOptIn                                 665480\n",
       "Census_FirmwareManufacturerIdentifier                  21416\n",
       "Census_FirmwareVersionIdentifier                       18737\n",
       "Census_IsSecureBootEnabled                                 0\n",
       "Census_IsWIMBootEnabled                               664573\n",
       "Census_IsVirtualDevice                                  1886\n",
       "Census_IsTouchEnabled                                      0\n",
       "Census_IsPenCapable                                        0\n",
       "Census_IsAlwaysOnAlwaysConnectedCapable                 8369\n",
       "Wdft_IsGamer                                           35690\n",
       "Wdft_RegionIdentifier                                  35690\n",
       "HasDetections                                              0\n",
       "dtype: int64"
      ]
     },
     "execution_count": 6,
     "metadata": {},
     "output_type": "execute_result"
    }
   ],
   "source": [
    "df.isnull().sum()"
   ]
  },
  {
   "cell_type": "code",
   "execution_count": 7,
   "id": "32b07ca4",
   "metadata": {},
   "outputs": [],
   "source": [
    "df.RtpStateBitfield.fillna(value=df.RtpStateBitfield.mode()[0],inplace=True)"
   ]
  },
  {
   "cell_type": "code",
   "execution_count": 8,
   "id": "407596f6",
   "metadata": {},
   "outputs": [],
   "source": [
    "df.DefaultBrowsersIdentifier.fillna(value=df.DefaultBrowsersIdentifier.mode()[0],inplace=True)"
   ]
  },
  {
   "cell_type": "code",
   "execution_count": 9,
   "id": "13e08d3f",
   "metadata": {},
   "outputs": [],
   "source": [
    "df.AVProductStatesIdentifier.fillna(value=df.AVProductStatesIdentifier.mode()[0],inplace=True)"
   ]
  },
  {
   "cell_type": "code",
   "execution_count": 10,
   "id": "8f365ebb",
   "metadata": {},
   "outputs": [],
   "source": [
    "df.AVProductsInstalled.fillna(value=df.AVProductsInstalled.mode()[0],inplace=True)"
   ]
  },
  {
   "cell_type": "code",
   "execution_count": 11,
   "id": "b355ac02",
   "metadata": {},
   "outputs": [],
   "source": [
    "df.CityIdentifier.fillna(value=df.CityIdentifier.mode()[0],inplace=True)"
   ]
  },
  {
   "cell_type": "code",
   "execution_count": 12,
   "id": "193bc8ea",
   "metadata": {},
   "outputs": [],
   "source": [
    "df.OrganizationIdentifier.fillna(value=df.OrganizationIdentifier.mode()[0],inplace=True)"
   ]
  },
  {
   "cell_type": "code",
   "execution_count": 13,
   "id": "66d159b6",
   "metadata": {},
   "outputs": [],
   "source": [
    "df.GeoNameIdentifier.fillna(value=df.GeoNameIdentifier.mode()[0],inplace=True)"
   ]
  },
  {
   "cell_type": "code",
   "execution_count": 14,
   "id": "7a49a826",
   "metadata": {},
   "outputs": [],
   "source": [
    "df.IsProtected.fillna(value=df.IsProtected.mode()[0],inplace=True)"
   ]
  },
  {
   "cell_type": "code",
   "execution_count": 15,
   "id": "5b5c1548",
   "metadata": {},
   "outputs": [],
   "source": [
    "df.SMode.fillna(value=df.SMode.mode()[0],inplace=True)"
   ]
  },
  {
   "cell_type": "code",
   "execution_count": 16,
   "id": "0fbcb253",
   "metadata": {},
   "outputs": [],
   "source": [
    "df.Firewall.fillna(value=df.Firewall.mode()[0],inplace=True)"
   ]
  },
  {
   "cell_type": "code",
   "execution_count": 17,
   "id": "f29d15de",
   "metadata": {},
   "outputs": [],
   "source": [
    "df.UacLuaenable.fillna(value=df.UacLuaenable.mode()[0],inplace=True)"
   ]
  },
  {
   "cell_type": "code",
   "execution_count": 18,
   "id": "fdee95d5",
   "metadata": {},
   "outputs": [],
   "source": [
    "df.Census_OEMNameIdentifier.fillna(value=df.Census_OEMNameIdentifier.mode()[0],inplace=True)"
   ]
  },
  {
   "cell_type": "code",
   "execution_count": 19,
   "id": "713e458c",
   "metadata": {},
   "outputs": [],
   "source": [
    "df.Census_OEMModelIdentifier.fillna(value=df.Census_OEMModelIdentifier.mode()[0],inplace=True)"
   ]
  },
  {
   "cell_type": "code",
   "execution_count": 20,
   "id": "ee29cb29",
   "metadata": {},
   "outputs": [],
   "source": [
    "df.Census_ProcessorCoreCount .fillna(value=df.Census_ProcessorCoreCount .mode()[0],inplace=True)"
   ]
  },
  {
   "cell_type": "code",
   "execution_count": 21,
   "id": "922b2158",
   "metadata": {},
   "outputs": [],
   "source": [
    "df.Census_ProcessorManufacturerIdentifier.fillna(value=df.Census_ProcessorManufacturerIdentifier.mode()[0],inplace=True)"
   ]
  },
  {
   "cell_type": "code",
   "execution_count": 22,
   "id": "72757ab5",
   "metadata": {},
   "outputs": [],
   "source": [
    "df.Census_PrimaryDiskTotalCapacity.fillna(value=df.Census_PrimaryDiskTotalCapacity.mode()[0],inplace=True)"
   ]
  },
  {
   "cell_type": "code",
   "execution_count": 23,
   "id": "c7d6b071",
   "metadata": {},
   "outputs": [],
   "source": [
    "df.Census_SystemVolumeTotalCapacity.fillna(value=df.Census_SystemVolumeTotalCapacity.mode()[0],inplace=True)"
   ]
  },
  {
   "cell_type": "code",
   "execution_count": 24,
   "id": "cf8cb936",
   "metadata": {},
   "outputs": [],
   "source": [
    "df.Census_InternalPrimaryDiagonalDisplaySizeInInches.fillna(value=df.Census_InternalPrimaryDiagonalDisplaySizeInInches.mode()[0],inplace=True)"
   ]
  },
  {
   "cell_type": "code",
   "execution_count": 25,
   "id": "a82bc1bd",
   "metadata": {},
   "outputs": [],
   "source": [
    "df.Census_InternalPrimaryDisplayResolutionHorizontal.fillna(value=df.Census_InternalPrimaryDisplayResolutionHorizontal.mode()[0],inplace=True)"
   ]
  },
  {
   "cell_type": "code",
   "execution_count": 26,
   "id": "b713d8ef",
   "metadata": {},
   "outputs": [],
   "source": [
    "df.Census_InternalPrimaryDisplayResolutionVertical .fillna(value=df.Census_InternalPrimaryDisplayResolutionVertical .mode()[0],inplace=True)"
   ]
  },
  {
   "cell_type": "code",
   "execution_count": 27,
   "id": "ef530730",
   "metadata": {},
   "outputs": [],
   "source": [
    "df.Wdft_IsGamer.fillna(value=df.Wdft_IsGamer.mode()[0],inplace=True)"
   ]
  },
  {
   "cell_type": "code",
   "execution_count": 28,
   "id": "37ddc5dc",
   "metadata": {},
   "outputs": [],
   "source": [
    "df.Wdft_RegionIdentifier.fillna(value=df.Wdft_RegionIdentifier.mode()[0],inplace=True)"
   ]
  },
  {
   "cell_type": "code",
   "execution_count": 29,
   "id": "c54d8824",
   "metadata": {},
   "outputs": [],
   "source": [
    "df.AVProductsEnabled .fillna(value=df.AVProductsEnabled .mode()[0],inplace=True)"
   ]
  },
  {
   "cell_type": "code",
   "execution_count": 30,
   "id": "ba179745",
   "metadata": {},
   "outputs": [],
   "source": [
    "df.PuaMode.fillna(value=df.PuaMode.mode()[0],inplace=True)"
   ]
  },
  {
   "cell_type": "code",
   "execution_count": 31,
   "id": "e1ce5c2d",
   "metadata": {},
   "outputs": [],
   "source": [
    "df.IeVerIdentifier.fillna(value=df.IeVerIdentifier.mode()[0],inplace=True)"
   ]
  },
  {
   "cell_type": "code",
   "execution_count": 32,
   "id": "3f562268",
   "metadata": {},
   "outputs": [],
   "source": [
    "df.Census_ProcessorModelIdentifier .fillna(value=df.Census_ProcessorModelIdentifier .mode()[0],inplace=True)"
   ]
  },
  {
   "cell_type": "code",
   "execution_count": 33,
   "id": "89a78c54",
   "metadata": {},
   "outputs": [],
   "source": [
    "df.Census_ProcessorClass .fillna(value=df.Census_ProcessorClass .mode()[0],inplace=True)"
   ]
  },
  {
   "cell_type": "code",
   "execution_count": 34,
   "id": "176b0fca",
   "metadata": {},
   "outputs": [],
   "source": [
    "df.Census_OSInstallLanguageIdentifier .fillna(value=df.Census_OSInstallLanguageIdentifier .mode()[0],inplace=True)"
   ]
  },
  {
   "cell_type": "code",
   "execution_count": 35,
   "id": "1e2dd538",
   "metadata": {},
   "outputs": [],
   "source": [
    "df.Census_IsFlightingInternal .fillna(value=df.Census_IsFlightingInternal .mode()[0],inplace=True)"
   ]
  },
  {
   "cell_type": "code",
   "execution_count": 36,
   "id": "7beab6b5",
   "metadata": {},
   "outputs": [],
   "source": [
    "df.Census_IsFlightsDisabled .fillna(value=df.Census_IsFlightsDisabled .mode()[0],inplace=True)"
   ]
  },
  {
   "cell_type": "code",
   "execution_count": 37,
   "id": "9e2798fe",
   "metadata": {},
   "outputs": [],
   "source": [
    "df.Census_ThresholdOptIn .fillna(value=df.Census_ThresholdOptIn .mode()[0],inplace=True)"
   ]
  },
  {
   "cell_type": "code",
   "execution_count": 38,
   "id": "a8232e6f",
   "metadata": {},
   "outputs": [],
   "source": [
    "df.Census_FirmwareManufacturerIdentifier .fillna(value=df.Census_FirmwareManufacturerIdentifier .mode()[0],inplace=True)"
   ]
  },
  {
   "cell_type": "code",
   "execution_count": 39,
   "id": "952dfa64",
   "metadata": {},
   "outputs": [],
   "source": [
    "df.Census_FirmwareVersionIdentifier .fillna(value=df.Census_FirmwareVersionIdentifier .mode()[0],inplace=True)"
   ]
  },
  {
   "cell_type": "code",
   "execution_count": 40,
   "id": "8b530101",
   "metadata": {},
   "outputs": [],
   "source": [
    "df.Census_IsWIMBootEnabled .fillna(value=df.Census_IsWIMBootEnabled .mode()[0],inplace=True)"
   ]
  },
  {
   "cell_type": "code",
   "execution_count": 41,
   "id": "84b2fae7",
   "metadata": {},
   "outputs": [],
   "source": [
    "df.Census_IsVirtualDevice .fillna(value=df.Census_IsVirtualDevice .mode()[0],inplace=True)"
   ]
  },
  {
   "cell_type": "code",
   "execution_count": 42,
   "id": "6fcfc3c9",
   "metadata": {},
   "outputs": [],
   "source": [
    "df.Census_IsAlwaysOnAlwaysConnectedCapable .fillna(value=df.Census_IsAlwaysOnAlwaysConnectedCapable .mode()[0],inplace=True)"
   ]
  },
  {
   "cell_type": "code",
   "execution_count": 43,
   "id": "5ae4bcc9",
   "metadata": {},
   "outputs": [],
   "source": [
    "df.drop(['OsVer'],axis=1,inplace=True)\n"
   ]
  },
  {
   "cell_type": "code",
   "execution_count": 44,
   "id": "91b40650",
   "metadata": {},
   "outputs": [],
   "source": [
    "df.Census_TotalPhysicalRAM .fillna(value=df.Census_TotalPhysicalRAM .mode()[0],inplace=True)"
   ]
  },
  {
   "cell_type": "code",
   "execution_count": 45,
   "id": "8f729698",
   "metadata": {},
   "outputs": [
    {
     "data": {
      "text/plain": [
       "IsBeta                                               0\n",
       "RtpStateBitfield                                     0\n",
       "IsSxsPassiveMode                                     0\n",
       "DefaultBrowsersIdentifier                            0\n",
       "AVProductStatesIdentifier                            0\n",
       "AVProductsInstalled                                  0\n",
       "AVProductsEnabled                                    0\n",
       "HasTpm                                               0\n",
       "CountryIdentifier                                    0\n",
       "CityIdentifier                                       0\n",
       "OrganizationIdentifier                               0\n",
       "GeoNameIdentifier                                    0\n",
       "LocaleEnglishNameIdentifier                          0\n",
       "OsBuild                                              0\n",
       "OsSuite                                              0\n",
       "OsPlatformSubRelease                                 0\n",
       "IsProtected                                          0\n",
       "AutoSampleOptIn                                      0\n",
       "PuaMode                                              0\n",
       "SMode                                                0\n",
       "IeVerIdentifier                                      0\n",
       "Firewall                                             0\n",
       "UacLuaenable                                         0\n",
       "Census_OEMNameIdentifier                             0\n",
       "Census_OEMModelIdentifier                            0\n",
       "Census_ProcessorCoreCount                            0\n",
       "Census_ProcessorManufacturerIdentifier               0\n",
       "Census_ProcessorModelIdentifier                      0\n",
       "Census_ProcessorClass                                0\n",
       "Census_PrimaryDiskTotalCapacity                      0\n",
       "Census_SystemVolumeTotalCapacity                     0\n",
       "Census_HasOpticalDiskDrive                           0\n",
       "Census_TotalPhysicalRAM                              0\n",
       "Census_InternalPrimaryDiagonalDisplaySizeInInches    0\n",
       "Census_InternalPrimaryDisplayResolutionHorizontal    0\n",
       "Census_InternalPrimaryDisplayResolutionVertical      0\n",
       "Census_OSBuildNumber                                 0\n",
       "Census_OSBuildRevision                               0\n",
       "Census_OSInstallLanguageIdentifier                   0\n",
       "Census_OSUILocaleIdentifier                          0\n",
       "Census_IsPortableOperatingSystem                     0\n",
       "Census_IsFlightingInternal                           0\n",
       "Census_IsFlightsDisabled                             0\n",
       "Census_ThresholdOptIn                                0\n",
       "Census_FirmwareManufacturerIdentifier                0\n",
       "Census_FirmwareVersionIdentifier                     0\n",
       "Census_IsSecureBootEnabled                           0\n",
       "Census_IsWIMBootEnabled                              0\n",
       "Census_IsVirtualDevice                               0\n",
       "Census_IsTouchEnabled                                0\n",
       "Census_IsPenCapable                                  0\n",
       "Census_IsAlwaysOnAlwaysConnectedCapable              0\n",
       "Wdft_IsGamer                                         0\n",
       "Wdft_RegionIdentifier                                0\n",
       "HasDetections                                        0\n",
       "dtype: int64"
      ]
     },
     "execution_count": 45,
     "metadata": {},
     "output_type": "execute_result"
    }
   ],
   "source": [
    "df.isnull().sum()"
   ]
  },
  {
   "cell_type": "code",
   "execution_count": 46,
   "id": "4c495de1",
   "metadata": {},
   "outputs": [],
   "source": [
    "df.drop(['OsPlatformSubRelease'],axis=1,inplace=True)"
   ]
  },
  {
   "cell_type": "code",
   "execution_count": 47,
   "id": "20abb127",
   "metadata": {},
   "outputs": [],
   "source": [
    "df.drop(['PuaMode'],axis=1,inplace=True)"
   ]
  },
  {
   "cell_type": "code",
   "execution_count": 48,
   "id": "23d11f5a",
   "metadata": {},
   "outputs": [],
   "source": [
    "df.drop(['Census_ProcessorClass'],axis=1,inplace=True)"
   ]
  },
  {
   "cell_type": "code",
   "execution_count": 49,
   "id": "fe213b01",
   "metadata": {},
   "outputs": [
    {
     "name": "stdout",
     "output_type": "stream",
     "text": [
      "<class 'pandas.core.frame.DataFrame'>\n",
      "RangeIndex: 1048575 entries, 0 to 1048574\n",
      "Data columns (total 52 columns):\n",
      " #   Column                                             Non-Null Count    Dtype  \n",
      "---  ------                                             --------------    -----  \n",
      " 0   IsBeta                                             1048575 non-null  int64  \n",
      " 1   RtpStateBitfield                                   1048575 non-null  float64\n",
      " 2   IsSxsPassiveMode                                   1048575 non-null  int64  \n",
      " 3   DefaultBrowsersIdentifier                          1048575 non-null  float64\n",
      " 4   AVProductStatesIdentifier                          1048575 non-null  float64\n",
      " 5   AVProductsInstalled                                1048575 non-null  float64\n",
      " 6   AVProductsEnabled                                  1048575 non-null  float64\n",
      " 7   HasTpm                                             1048575 non-null  int64  \n",
      " 8   CountryIdentifier                                  1048575 non-null  int64  \n",
      " 9   CityIdentifier                                     1048575 non-null  float64\n",
      " 10  OrganizationIdentifier                             1048575 non-null  float64\n",
      " 11  GeoNameIdentifier                                  1048575 non-null  float64\n",
      " 12  LocaleEnglishNameIdentifier                        1048575 non-null  int64  \n",
      " 13  OsBuild                                            1048575 non-null  int64  \n",
      " 14  OsSuite                                            1048575 non-null  int64  \n",
      " 15  IsProtected                                        1048575 non-null  float64\n",
      " 16  AutoSampleOptIn                                    1048575 non-null  int64  \n",
      " 17  SMode                                              1048575 non-null  float64\n",
      " 18  IeVerIdentifier                                    1048575 non-null  float64\n",
      " 19  Firewall                                           1048575 non-null  float64\n",
      " 20  UacLuaenable                                       1048575 non-null  float64\n",
      " 21  Census_OEMNameIdentifier                           1048575 non-null  float64\n",
      " 22  Census_OEMModelIdentifier                          1048575 non-null  float64\n",
      " 23  Census_ProcessorCoreCount                          1048575 non-null  float64\n",
      " 24  Census_ProcessorManufacturerIdentifier             1048575 non-null  float64\n",
      " 25  Census_ProcessorModelIdentifier                    1048575 non-null  float64\n",
      " 26  Census_PrimaryDiskTotalCapacity                    1048575 non-null  float64\n",
      " 27  Census_SystemVolumeTotalCapacity                   1048575 non-null  float64\n",
      " 28  Census_HasOpticalDiskDrive                         1048575 non-null  int64  \n",
      " 29  Census_TotalPhysicalRAM                            1048575 non-null  float64\n",
      " 30  Census_InternalPrimaryDiagonalDisplaySizeInInches  1048575 non-null  float64\n",
      " 31  Census_InternalPrimaryDisplayResolutionHorizontal  1048575 non-null  float64\n",
      " 32  Census_InternalPrimaryDisplayResolutionVertical    1048575 non-null  float64\n",
      " 33  Census_OSBuildNumber                               1048575 non-null  int64  \n",
      " 34  Census_OSBuildRevision                             1048575 non-null  int64  \n",
      " 35  Census_OSInstallLanguageIdentifier                 1048575 non-null  float64\n",
      " 36  Census_OSUILocaleIdentifier                        1048575 non-null  int64  \n",
      " 37  Census_IsPortableOperatingSystem                   1048575 non-null  int64  \n",
      " 38  Census_IsFlightingInternal                         1048575 non-null  float64\n",
      " 39  Census_IsFlightsDisabled                           1048575 non-null  float64\n",
      " 40  Census_ThresholdOptIn                              1048575 non-null  float64\n",
      " 41  Census_FirmwareManufacturerIdentifier              1048575 non-null  float64\n",
      " 42  Census_FirmwareVersionIdentifier                   1048575 non-null  float64\n",
      " 43  Census_IsSecureBootEnabled                         1048575 non-null  int64  \n",
      " 44  Census_IsWIMBootEnabled                            1048575 non-null  float64\n",
      " 45  Census_IsVirtualDevice                             1048575 non-null  float64\n",
      " 46  Census_IsTouchEnabled                              1048575 non-null  int64  \n",
      " 47  Census_IsPenCapable                                1048575 non-null  int64  \n",
      " 48  Census_IsAlwaysOnAlwaysConnectedCapable            1048575 non-null  float64\n",
      " 49  Wdft_IsGamer                                       1048575 non-null  float64\n",
      " 50  Wdft_RegionIdentifier                              1048575 non-null  float64\n",
      " 51  HasDetections                                      1048575 non-null  int64  \n",
      "dtypes: float64(35), int64(17)\n",
      "memory usage: 416.0 MB\n"
     ]
    }
   ],
   "source": [
    "df.info()"
   ]
  },
  {
   "cell_type": "code",
   "execution_count": 50,
   "id": "10bb7df9",
   "metadata": {},
   "outputs": [
    {
     "data": {
      "text/plain": [
       "Index(['IsBeta', 'RtpStateBitfield', 'IsSxsPassiveMode',\n",
       "       'DefaultBrowsersIdentifier', 'AVProductStatesIdentifier',\n",
       "       'AVProductsInstalled', 'AVProductsEnabled', 'HasTpm',\n",
       "       'CountryIdentifier', 'CityIdentifier', 'OrganizationIdentifier',\n",
       "       'GeoNameIdentifier', 'LocaleEnglishNameIdentifier', 'OsBuild',\n",
       "       'OsSuite', 'IsProtected', 'AutoSampleOptIn', 'SMode', 'IeVerIdentifier',\n",
       "       'Firewall', 'UacLuaenable', 'Census_OEMNameIdentifier',\n",
       "       'Census_OEMModelIdentifier', 'Census_ProcessorCoreCount',\n",
       "       'Census_ProcessorManufacturerIdentifier',\n",
       "       'Census_ProcessorModelIdentifier', 'Census_PrimaryDiskTotalCapacity',\n",
       "       'Census_SystemVolumeTotalCapacity', 'Census_HasOpticalDiskDrive',\n",
       "       'Census_TotalPhysicalRAM',\n",
       "       'Census_InternalPrimaryDiagonalDisplaySizeInInches',\n",
       "       'Census_InternalPrimaryDisplayResolutionHorizontal',\n",
       "       'Census_InternalPrimaryDisplayResolutionVertical',\n",
       "       'Census_OSBuildNumber', 'Census_OSBuildRevision',\n",
       "       'Census_OSInstallLanguageIdentifier', 'Census_OSUILocaleIdentifier',\n",
       "       'Census_IsPortableOperatingSystem', 'Census_IsFlightingInternal',\n",
       "       'Census_IsFlightsDisabled', 'Census_ThresholdOptIn',\n",
       "       'Census_FirmwareManufacturerIdentifier',\n",
       "       'Census_FirmwareVersionIdentifier', 'Census_IsSecureBootEnabled',\n",
       "       'Census_IsWIMBootEnabled', 'Census_IsVirtualDevice',\n",
       "       'Census_IsTouchEnabled', 'Census_IsPenCapable',\n",
       "       'Census_IsAlwaysOnAlwaysConnectedCapable', 'Wdft_IsGamer',\n",
       "       'Wdft_RegionIdentifier', 'HasDetections'],\n",
       "      dtype='object')"
      ]
     },
     "execution_count": 50,
     "metadata": {},
     "output_type": "execute_result"
    }
   ],
   "source": [
    "df.columns"
   ]
  },
  {
   "cell_type": "code",
   "execution_count": 51,
   "id": "e72180dd",
   "metadata": {},
   "outputs": [
    {
     "data": {
      "text/plain": [
       "(1048575, 52)"
      ]
     },
     "execution_count": 51,
     "metadata": {},
     "output_type": "execute_result"
    }
   ],
   "source": [
    "df.shape"
   ]
  },
  {
   "cell_type": "code",
   "execution_count": 52,
   "id": "3da1d83d",
   "metadata": {},
   "outputs": [],
   "source": [
    "x = df.iloc[:,:-1]\n",
    "y = df.iloc[:,-1]"
   ]
  },
  {
   "cell_type": "code",
   "execution_count": 53,
   "id": "b0bf74a2",
   "metadata": {},
   "outputs": [],
   "source": [
    "X_train,X_test,y_train,y_test=train_test_split(x,y,test_size=0.3)"
   ]
  },
  {
   "cell_type": "code",
   "execution_count": 54,
   "id": "daac9208",
   "metadata": {},
   "outputs": [],
   "source": [
    "from sklearn.ensemble import RandomForestClassifier"
   ]
  },
  {
   "cell_type": "code",
   "execution_count": 55,
   "id": "ca71f524",
   "metadata": {},
   "outputs": [
    {
     "data": {
      "text/plain": [
       "RandomForestClassifier()"
      ]
     },
     "execution_count": 55,
     "metadata": {},
     "output_type": "execute_result"
    }
   ],
   "source": [
    "rf = RandomForestClassifier()\n",
    "rf.fit(X_train,y_train)"
   ]
  },
  {
   "cell_type": "code",
   "execution_count": 56,
   "id": "f50d0736",
   "metadata": {},
   "outputs": [],
   "source": [
    "rfp = rf.predict(X_test)"
   ]
  },
  {
   "cell_type": "code",
   "execution_count": 57,
   "id": "fb08d6bf",
   "metadata": {},
   "outputs": [
    {
     "data": {
      "text/plain": [
       "0.6029347718971431"
      ]
     },
     "execution_count": 57,
     "metadata": {},
     "output_type": "execute_result"
    }
   ],
   "source": [
    "rfa = accuracy_score(y_test,rfp)\n",
    "rfa"
   ]
  },
  {
   "cell_type": "code",
   "execution_count": null,
   "id": "3e3f5fc4",
   "metadata": {},
   "outputs": [],
   "source": []
  }
 ],
 "metadata": {
  "kernelspec": {
   "display_name": "Python 3",
   "language": "python",
   "name": "python3"
  },
  "language_info": {
   "codemirror_mode": {
    "name": "ipython",
    "version": 3
   },
   "file_extension": ".py",
   "mimetype": "text/x-python",
   "name": "python",
   "nbconvert_exporter": "python",
   "pygments_lexer": "ipython3",
   "version": "3.6.8"
  }
 },
 "nbformat": 4,
 "nbformat_minor": 5
}
